{
 "cells": [
  {
   "cell_type": "markdown",
   "metadata": {},
   "source": [
    "!pip install pandas\n",
    "!pip install numpy\n",
    "!pip install matplotlib\n",
    "!pip install seaborn\n",
    "!pip install nltk\n",
    "!pip install sklearn\n",
    "!pip install tensorflow\n",
    "!pip install clean-text\n",
    "!pip install googletrans"
   ]
  },
  {
   "cell_type": "code",
   "execution_count": 1,
   "metadata": {},
   "outputs": [
    {
     "name": "stderr",
     "output_type": "stream",
     "text": [
      "Since the GPL-licensed package `unidecode` is not installed, using Python's `unicodedata` package which yields worse results.\n",
      "[nltk_data] Error loading punkt: <urlopen error [Errno 11001]\n",
      "[nltk_data]     getaddrinfo failed>\n",
      "[nltk_data] Error loading stopwords: <urlopen error [Errno 11001]\n",
      "[nltk_data]     getaddrinfo failed>\n",
      "C:\\Users\\SAMEER MISHRA\\anaconda3\\lib\\site-packages\\fuzzywuzzy\\fuzz.py:11: UserWarning: Using slow pure-python SequenceMatcher. Install python-Levenshtein to remove this warning\n",
      "  warnings.warn('Using slow pure-python SequenceMatcher. Install python-Levenshtein to remove this warning')\n"
     ]
    }
   ],
   "source": [
    "import pandas as pd\n",
    "pd.set_option('display.max_colwidth', None)\n",
    "\n",
    "import numpy as np\n",
    "import matplotlib.pyplot as plt\n",
    "import seaborn as sns\n",
    "import re\n",
    "from cleantext import clean\n",
    "from googletrans import Translator\n",
    "translator = Translator()\n",
    "\n",
    "import nltk\n",
    "nltk.download('punkt')\n",
    "nltk.download('stopwords')\n",
    "from nltk.corpus import stopwords\n",
    "from nltk.tokenize import word_tokenize \n",
    "from nltk.stem import SnowballStemmer\n",
    "\n",
    "\n",
    "\n",
    "from sklearn import model_selection, metrics, preprocessing, ensemble\n",
    "from sklearn.feature_extraction.text import CountVectorizer\n",
    "\n",
    "import tensorflow as tf\n",
    "from tensorflow.keras.models import Model\n",
    "from tensorflow.keras.preprocessing.text import Tokenizer\n",
    "from tensorflow.keras.preprocessing.sequence import pad_sequences\n",
    "from tensorflow.keras.layers import Conv1D, Bidirectional, LSTM, Dense, Dropout, Input\n",
    "from tensorflow.keras.optimizers import Adam\n",
    "\n",
    "from fuzzywuzzy import fuzz"
   ]
  },
  {
   "cell_type": "code",
   "execution_count": 2,
   "metadata": {},
   "outputs": [
    {
     "name": "stdout",
     "output_type": "stream",
     "text": [
      "Total Data Row :  9740\n"
     ]
    },
    {
     "data": {
      "text/html": [
       "<div>\n",
       "<style scoped>\n",
       "    .dataframe tbody tr th:only-of-type {\n",
       "        vertical-align: middle;\n",
       "    }\n",
       "\n",
       "    .dataframe tbody tr th {\n",
       "        vertical-align: top;\n",
       "    }\n",
       "\n",
       "    .dataframe thead th {\n",
       "        text-align: right;\n",
       "    }\n",
       "</style>\n",
       "<table border=\"1\" class=\"dataframe\">\n",
       "  <thead>\n",
       "    <tr style=\"text-align: right;\">\n",
       "      <th></th>\n",
       "      <th>id</th>\n",
       "      <th>keyword</th>\n",
       "      <th>location</th>\n",
       "      <th>text</th>\n",
       "      <th>target</th>\n",
       "    </tr>\n",
       "  </thead>\n",
       "  <tbody>\n",
       "    <tr>\n",
       "      <th>0</th>\n",
       "      <td>1</td>\n",
       "      <td>NaN</td>\n",
       "      <td>NaN</td>\n",
       "      <td>Our Deeds are the Reason of this #earthquake May ALLAH Forgive us all</td>\n",
       "      <td>1</td>\n",
       "    </tr>\n",
       "    <tr>\n",
       "      <th>1</th>\n",
       "      <td>4</td>\n",
       "      <td>NaN</td>\n",
       "      <td>NaN</td>\n",
       "      <td>Forest fire near La Ronge Sask. Canada</td>\n",
       "      <td>1</td>\n",
       "    </tr>\n",
       "    <tr>\n",
       "      <th>2</th>\n",
       "      <td>5</td>\n",
       "      <td>NaN</td>\n",
       "      <td>NaN</td>\n",
       "      <td>All residents asked to 'shelter in place' are being notified by officers. No other evacuation or shelter in place orders are expected</td>\n",
       "      <td>1</td>\n",
       "    </tr>\n",
       "    <tr>\n",
       "      <th>3</th>\n",
       "      <td>6</td>\n",
       "      <td>NaN</td>\n",
       "      <td>NaN</td>\n",
       "      <td>13,000 people receive #wildfires evacuation orders in California</td>\n",
       "      <td>1</td>\n",
       "    </tr>\n",
       "    <tr>\n",
       "      <th>4</th>\n",
       "      <td>7</td>\n",
       "      <td>NaN</td>\n",
       "      <td>NaN</td>\n",
       "      <td>Just got sent this photo from Ruby #Alaska as smoke from #wildfires pours into a school</td>\n",
       "      <td>1</td>\n",
       "    </tr>\n",
       "    <tr>\n",
       "      <th>5</th>\n",
       "      <td>8</td>\n",
       "      <td>NaN</td>\n",
       "      <td>NaN</td>\n",
       "      <td>#RockyFire Update =&gt; California Hwy. 20 closed in both directions due to Lake County fire - #CAfire #wildfires</td>\n",
       "      <td>1</td>\n",
       "    </tr>\n",
       "    <tr>\n",
       "      <th>6</th>\n",
       "      <td>10</td>\n",
       "      <td>NaN</td>\n",
       "      <td>NaN</td>\n",
       "      <td>#flood #disaster Heavy rain causes flash flooding of streets in Manitou, Colorado Springs areas</td>\n",
       "      <td>1</td>\n",
       "    </tr>\n",
       "    <tr>\n",
       "      <th>7</th>\n",
       "      <td>13</td>\n",
       "      <td>NaN</td>\n",
       "      <td>NaN</td>\n",
       "      <td>I'm on top of the hill and I can see a fire in the woods...</td>\n",
       "      <td>1</td>\n",
       "    </tr>\n",
       "    <tr>\n",
       "      <th>8</th>\n",
       "      <td>14</td>\n",
       "      <td>NaN</td>\n",
       "      <td>NaN</td>\n",
       "      <td>There's an emergency evacuation happening now in the building across the street</td>\n",
       "      <td>1</td>\n",
       "    </tr>\n",
       "    <tr>\n",
       "      <th>9</th>\n",
       "      <td>15</td>\n",
       "      <td>NaN</td>\n",
       "      <td>NaN</td>\n",
       "      <td>I'm afraid that the tornado is coming to our area...</td>\n",
       "      <td>1</td>\n",
       "    </tr>\n",
       "  </tbody>\n",
       "</table>\n",
       "</div>"
      ],
      "text/plain": [
       "   id keyword location  \\\n",
       "0   1     NaN      NaN   \n",
       "1   4     NaN      NaN   \n",
       "2   5     NaN      NaN   \n",
       "3   6     NaN      NaN   \n",
       "4   7     NaN      NaN   \n",
       "5   8     NaN      NaN   \n",
       "6  10     NaN      NaN   \n",
       "7  13     NaN      NaN   \n",
       "8  14     NaN      NaN   \n",
       "9  15     NaN      NaN   \n",
       "\n",
       "                                                                                                                                    text  \\\n",
       "0                                                                  Our Deeds are the Reason of this #earthquake May ALLAH Forgive us all   \n",
       "1                                                                                                 Forest fire near La Ronge Sask. Canada   \n",
       "2  All residents asked to 'shelter in place' are being notified by officers. No other evacuation or shelter in place orders are expected   \n",
       "3                                                                      13,000 people receive #wildfires evacuation orders in California    \n",
       "4                                               Just got sent this photo from Ruby #Alaska as smoke from #wildfires pours into a school    \n",
       "5                         #RockyFire Update => California Hwy. 20 closed in both directions due to Lake County fire - #CAfire #wildfires   \n",
       "6                                        #flood #disaster Heavy rain causes flash flooding of streets in Manitou, Colorado Springs areas   \n",
       "7                                                                            I'm on top of the hill and I can see a fire in the woods...   \n",
       "8                                                        There's an emergency evacuation happening now in the building across the street   \n",
       "9                                                                                   I'm afraid that the tornado is coming to our area...   \n",
       "\n",
       "   target  \n",
       "0       1  \n",
       "1       1  \n",
       "2       1  \n",
       "3       1  \n",
       "4       1  \n",
       "5       1  \n",
       "6       1  \n",
       "7       1  \n",
       "8       1  \n",
       "9       1  "
      ]
     },
     "execution_count": 2,
     "metadata": {},
     "output_type": "execute_result"
    }
   ],
   "source": [
    "# Reading train dataset\n",
    "\n",
    "file_path = \"C:/Users/SAMEER MISHRA/Desktop/COLLEGE PRACTICAL PROGRAM FILES/6th SEM/Project/Code/Dataset/train.csv\"\n",
    "rdata = pd.read_csv(file_path, encoding = 'unicode_escape', engine ='python')\n",
    "print(\"Total Data Row : \", rdata['id'].count())\n",
    "rdata.head(10)"
   ]
  },
  {
   "cell_type": "code",
   "execution_count": 3,
   "metadata": {},
   "outputs": [
    {
     "name": "stdout",
     "output_type": "stream",
     "text": [
      "Count of 0 in target: 4342\n",
      "Count of 1 in target: 5398\n"
     ]
    },
    {
     "data": {
      "image/png": "[encoded data removed]",
      "text/plain": [
       "<Figure size 1440x720 with 1 Axes>"
      ]
     },
     "metadata": {
      "needs_background": "light"
     },
     "output_type": "display_data"
    }
   ],
   "source": [
    "# Plotting target value counts\n",
    "\n",
    "\n",
    "print(\"Count of 0 in target:\",(rdata['target']==0).sum())\n",
    "print(\"Count of 1 in target:\",(rdata['target']==1).sum())\n",
    "\n",
    "plt.figure(figsize=(20,10))\n",
    "rdata['target'].value_counts().plot(kind=\"barh\",color=\"green\")\n",
    "plt.suptitle(\"Dataset\", fontsize=30)\n",
    "plt.show()"
   ]
  },
  {
   "cell_type": "code",
   "execution_count": 4,
   "metadata": {},
   "outputs": [
    {
     "name": "stdout",
     "output_type": "stream",
     "text": [
      "NaN in id       :  0\n",
      "NaN in keyword  :  2188\n",
      "NaN in location :  4660\n",
      "NaN in text     :  0\n",
      "NaN in target   :  0\n"
     ]
    }
   ],
   "source": [
    "#Printing NaN counts\n",
    "\n",
    "print(\"NaN in id       : \", rdata['id'].isna().sum())\n",
    "print(\"NaN in keyword  : \", rdata['keyword'].isna().sum())\n",
    "print(\"NaN in location : \", rdata['location'].isna().sum())\n",
    "print(\"NaN in text     : \", rdata['text'].isna().sum())\n",
    "print(\"NaN in target   : \", rdata['target'].isna().sum())"
   ]
  },
  {
   "cell_type": "code",
   "execution_count": 5,
   "metadata": {},
   "outputs": [],
   "source": [
    "#Creating new attribute 'word_count'\n",
    "\n",
    "rdata['word_count'] = rdata['text'].apply(lambda x: len(x.split(\" \")) )"
   ]
  },
  {
   "cell_type": "code",
   "execution_count": 6,
   "metadata": {
    "scrolled": false
   },
   "outputs": [
    {
     "name": "stdout",
     "output_type": "stream",
     "text": [
      "Love skiing\n",
      "LOOOOOOL\n",
      "Cooool :)\n",
      "The end!\n",
      "Aftershock https://t.co/xMWODFMtUI\n",
      "Aftershock https://t.co/jV8ppKhJY7\n",
      "Apocalypse please\n",
      "Armageddon https://t.co/uCSUDk3q1d\n",
      "@paddytomlinson1 ARMAGEDDON\n",
      "@local_arsonist LMFAO\n",
      "@kynespeace *blight\n",
      "Stats http://t.co/U7vavyrGv9\n",
      "@Blizzard_Gamin ight\n",
      "Crushed\n",
      "eggs desolate\n",
      "Electrocute yourself\n",
      "Emergency surgery\n",
      "fatal attraction\n",
      "Fatality!\n",
      "fatality\n",
      "@Babybackreeve FATALITY!!!!!!!!!!\n",
      "Fatality https://t.co/GF5qjGoyCi\n",
      "Fatality ????\n",
      "Flattened https://t.co/9jCIBenckz\n",
      "hurricane?? sick!\n",
      "Bad day\n",
      "Meltdown\n",
      "Err:509\n",
      "Obliterated\n",
      "@BizzleMahomie SCREAMING\n",
      "@Scalpium SCREAMING\n",
      "#NoChillLukeHammings\n",
      "IM SCREAMING\n",
      "*screams internally*\n",
      "*screams* http://t.co/PU7C4Hhbxj\n",
      "@RealJaxClone *screams*\n",
      "this storm????\n",
      ":: Survive??\n",
      "Truth...\n",
      "https://t.co/h6amECX5K7\n",
      "#News\n",
      "#BBC\n",
      "#CNN\n",
      "#Islam\n",
      "#Truth\n",
      "#god\n",
      "#ISIS\n",
      "#terrorism\n",
      "#Quran\n",
      "#Lies http://t.co/B8iWRdxcm0\n",
      "Truth...\n",
      "https://t.co/nXS3Z1kxiD\n",
      "#News\n",
      "#BBC\n",
      "#CNN\n",
      "#Islam\n",
      "#Truth\n",
      "#god\n",
      "#ISIS\n",
      "#terrorism\n",
      "#Quran\n",
      "#Lies http://t.co/UDKMAdKuzY\n",
      "Truth...\n",
      "https://t.co/beJfTYgJIL\n",
      "#News\n",
      "#BBC\n",
      "#CNN\n",
      "#Islam\n",
      "#Truth\n",
      "#god\n",
      "#ISIS\n",
      "#terrorism\n",
      "#Quran\n",
      "#Lies http://t.co/jlCZiDZ7Vu\n",
      "Truth...\n",
      "https://t.co/2Y4RGob7pj\n",
      "#News\n",
      "#BBC\n",
      "#CNN\n",
      "#Islam\n",
      "#Truth\n",
      "#god\n",
      "#ISIS\n",
      "#terrorism\n",
      "#Quran\n",
      "#Lies http://t.co/mVes6VsSyN\n",
      "Truth...\n",
      "https://t.co/p5ZIcjUdXO\n",
      "#News\n",
      "#BBC\n",
      "#CNN\n",
      "#Islam\n",
      "#Truth\n",
      "#god\n",
      "#ISIS\n",
      "#terrorism\n",
      "#Quran\n",
      "#Lies http://t.co/kZhB8zX6YC\n",
      "Truth...\n",
      "https://t.co/k44tL3rfMy\n",
      "#News\n",
      "#BBC\n",
      "#CNN\n",
      "#Islam\n",
      "#Truth\n",
      "#god\n",
      "#ISIS\n",
      "#terrorism\n",
      "#Quran\n",
      "#Lies http://t.co/ipT0hoNoTI\n",
      "Truth...\n",
      "https://t.co/4ZQrsAQrRT\n",
      "#News\n",
      "#BBC\n",
      "#CNN\n",
      "#Islam\n",
      "#Truth\n",
      "#god\n",
      "#ISIS\n",
      "#terrorism\n",
      "#Quran\n",
      "#Lies http://t.co/6ar3UKvsxw\n",
      "Thunder???\n",
      "Weapon's catalogue~\n",
      "Wrecked emotions.\n",
      "Sirens everywhere!\n",
      "Omg earthquake\n"
     ]
    }
   ],
   "source": [
    "# printing rows containing less than 3 words\n",
    "\n",
    "for i in range(rdata['word_count'].count()):\n",
    "  if rdata['word_count'][i]<3:\n",
    "    print(rdata['text'][i])"
   ]
  },
  {
   "cell_type": "code",
   "execution_count": 7,
   "metadata": {},
   "outputs": [],
   "source": [
    "#Removing the text with less than 3 words\n",
    "\n",
    "rdata = rdata[rdata['word_count']>2]\n",
    "rdata = rdata.reset_index()"
   ]
  },
  {
   "cell_type": "code",
   "execution_count": 8,
   "metadata": {},
   "outputs": [
    {
     "name": "stdout",
     "output_type": "stream",
     "text": [
      "0 texts with word (count < 3)\n"
     ]
    }
   ],
   "source": [
    "#Checking whether data is removed or not\n",
    "\n",
    "flag=0\n",
    "for i in range(rdata['word_count'].count()):\n",
    "  if rdata['word_count'][i]<3:\n",
    "    print(rdata['text'][i])\n",
    "    flag=1\n",
    "if flag==0:\n",
    "  print(\"0 texts with word (count < 3)\")\n"
   ]
  },
  {
   "cell_type": "code",
   "execution_count": 9,
   "metadata": {},
   "outputs": [],
   "source": [
    "# Clean text columns\n",
    "\n",
    "stop_words = set(stopwords.words('english'))\n",
    "stemmer = SnowballStemmer('english')\n",
    "\n",
    "def clean_text(each_text):    \n",
    "    #removing emoji\n",
    "    each_text_no_emoji = clean(each_text, no_emoji=True)\n",
    "    \n",
    "    #removing URL from text\n",
    "    each_text_no_url = re.sub(r\"http\\S+\", \"\", each_text_no_emoji)\n",
    "        \n",
    "    # removing numbers from text\n",
    "    text_no_num = re.sub(r'\\d+', '', each_text_no_url)\n",
    "\n",
    "    # tokenizing each text\n",
    "    word_tokens = word_tokenize(text_no_num)\n",
    "    \n",
    "    # removing special character\n",
    "    clean_text = []\n",
    "    for word in word_tokens:\n",
    "        clean_text.append(\"\".join([z for z in word if z.isalnum()]))\n",
    "\n",
    "    # removing stop words and lower\n",
    "    text_with_no_stop_word = [w.lower() for w in clean_text if not w in stop_words]  \n",
    "\n",
    "    # do stemming\n",
    "    stemmed_text = [stemmer.stem(w) for w in text_with_no_stop_word]\n",
    "    \n",
    "    return \" \".join(\" \".join(stemmed_text).split())\n",
    "\n",
    "\n",
    "rdata['clean_text'] = rdata['text'].apply(lambda x: clean_text(x) )\n",
    "rdata['keyword'] = rdata['keyword'].fillna(\"none\")\n",
    "rdata['clean_keyword'] = rdata['keyword'].apply(lambda x: clean_text(x) )"
   ]
  },
  {
   "cell_type": "code",
   "execution_count": 10,
   "metadata": {},
   "outputs": [],
   "source": [
    "# Combine column 'clean_keyword' and 'clean_text' into one\n",
    "\n",
    "rdata['keyword_text'] = rdata['clean_keyword'] + \" \" + rdata[\"clean_text\"]"
   ]
  },
  {
   "cell_type": "code",
   "execution_count": 11,
   "metadata": {
    "scrolled": false
   },
   "outputs": [
    {
     "data": {
      "text/html": [
       "<div>\n",
       "<style scoped>\n",
       "    .dataframe tbody tr th:only-of-type {\n",
       "        vertical-align: middle;\n",
       "    }\n",
       "\n",
       "    .dataframe tbody tr th {\n",
       "        vertical-align: top;\n",
       "    }\n",
       "\n",
       "    .dataframe thead th {\n",
       "        text-align: right;\n",
       "    }\n",
       "</style>\n",
       "<table border=\"1\" class=\"dataframe\">\n",
       "  <thead>\n",
       "    <tr style=\"text-align: right;\">\n",
       "      <th></th>\n",
       "      <th>index</th>\n",
       "      <th>id</th>\n",
       "      <th>keyword</th>\n",
       "      <th>location</th>\n",
       "      <th>text</th>\n",
       "      <th>target</th>\n",
       "      <th>word_count</th>\n",
       "      <th>clean_text</th>\n",
       "      <th>clean_keyword</th>\n",
       "      <th>keyword_text</th>\n",
       "    </tr>\n",
       "  </thead>\n",
       "  <tbody>\n",
       "    <tr>\n",
       "      <th>0</th>\n",
       "      <td>0</td>\n",
       "      <td>1</td>\n",
       "      <td>none</td>\n",
       "      <td>NaN</td>\n",
       "      <td>Our Deeds are the Reason of this #earthquake May ALLAH Forgive us all</td>\n",
       "      <td>1</td>\n",
       "      <td>13</td>\n",
       "      <td>deed reason earthquak may allah forgiv us</td>\n",
       "      <td>none</td>\n",
       "      <td>none deed reason earthquak may allah forgiv us</td>\n",
       "    </tr>\n",
       "    <tr>\n",
       "      <th>1</th>\n",
       "      <td>1</td>\n",
       "      <td>4</td>\n",
       "      <td>none</td>\n",
       "      <td>NaN</td>\n",
       "      <td>Forest fire near La Ronge Sask. Canada</td>\n",
       "      <td>1</td>\n",
       "      <td>7</td>\n",
       "      <td>forest fire near la rong sask canada</td>\n",
       "      <td>none</td>\n",
       "      <td>none forest fire near la rong sask canada</td>\n",
       "    </tr>\n",
       "    <tr>\n",
       "      <th>2</th>\n",
       "      <td>2</td>\n",
       "      <td>5</td>\n",
       "      <td>none</td>\n",
       "      <td>NaN</td>\n",
       "      <td>All residents asked to 'shelter in place' are being notified by officers. No other evacuation or shelter in place orders are expected</td>\n",
       "      <td>1</td>\n",
       "      <td>22</td>\n",
       "      <td>resid ask shelter place notifi offic evacu shelter place order expect</td>\n",
       "      <td>none</td>\n",
       "      <td>none resid ask shelter place notifi offic evacu shelter place order expect</td>\n",
       "    </tr>\n",
       "    <tr>\n",
       "      <th>3</th>\n",
       "      <td>3</td>\n",
       "      <td>6</td>\n",
       "      <td>none</td>\n",
       "      <td>NaN</td>\n",
       "      <td>13,000 people receive #wildfires evacuation orders in California</td>\n",
       "      <td>1</td>\n",
       "      <td>9</td>\n",
       "      <td>peopl receiv wildfir evacu order california</td>\n",
       "      <td>none</td>\n",
       "      <td>none peopl receiv wildfir evacu order california</td>\n",
       "    </tr>\n",
       "    <tr>\n",
       "      <th>4</th>\n",
       "      <td>4</td>\n",
       "      <td>7</td>\n",
       "      <td>none</td>\n",
       "      <td>NaN</td>\n",
       "      <td>Just got sent this photo from Ruby #Alaska as smoke from #wildfires pours into a school</td>\n",
       "      <td>1</td>\n",
       "      <td>17</td>\n",
       "      <td>got sent photo rubi alaska smoke wildfir pour school</td>\n",
       "      <td>none</td>\n",
       "      <td>none got sent photo rubi alaska smoke wildfir pour school</td>\n",
       "    </tr>\n",
       "    <tr>\n",
       "      <th>5</th>\n",
       "      <td>5</td>\n",
       "      <td>8</td>\n",
       "      <td>none</td>\n",
       "      <td>NaN</td>\n",
       "      <td>#RockyFire Update =&gt; California Hwy. 20 closed in both directions due to Lake County fire - #CAfire #wildfires</td>\n",
       "      <td>1</td>\n",
       "      <td>18</td>\n",
       "      <td>rockyfir updat california hwi close direct due lake counti fire cafir wildfir</td>\n",
       "      <td>none</td>\n",
       "      <td>none rockyfir updat california hwi close direct due lake counti fire cafir wildfir</td>\n",
       "    </tr>\n",
       "    <tr>\n",
       "      <th>6</th>\n",
       "      <td>6</td>\n",
       "      <td>10</td>\n",
       "      <td>none</td>\n",
       "      <td>NaN</td>\n",
       "      <td>#flood #disaster Heavy rain causes flash flooding of streets in Manitou, Colorado Springs areas</td>\n",
       "      <td>1</td>\n",
       "      <td>14</td>\n",
       "      <td>flood disast heavi rain caus flash flood street manitou colorado spring area</td>\n",
       "      <td>none</td>\n",
       "      <td>none flood disast heavi rain caus flash flood street manitou colorado spring area</td>\n",
       "    </tr>\n",
       "    <tr>\n",
       "      <th>7</th>\n",
       "      <td>7</td>\n",
       "      <td>13</td>\n",
       "      <td>none</td>\n",
       "      <td>NaN</td>\n",
       "      <td>I'm on top of the hill and I can see a fire in the woods...</td>\n",
       "      <td>1</td>\n",
       "      <td>15</td>\n",
       "      <td>top hill see fire wood</td>\n",
       "      <td>none</td>\n",
       "      <td>none top hill see fire wood</td>\n",
       "    </tr>\n",
       "    <tr>\n",
       "      <th>8</th>\n",
       "      <td>8</td>\n",
       "      <td>14</td>\n",
       "      <td>none</td>\n",
       "      <td>NaN</td>\n",
       "      <td>There's an emergency evacuation happening now in the building across the street</td>\n",
       "      <td>1</td>\n",
       "      <td>12</td>\n",
       "      <td>emerg evacu happen build across street</td>\n",
       "      <td>none</td>\n",
       "      <td>none emerg evacu happen build across street</td>\n",
       "    </tr>\n",
       "    <tr>\n",
       "      <th>9</th>\n",
       "      <td>9</td>\n",
       "      <td>15</td>\n",
       "      <td>none</td>\n",
       "      <td>NaN</td>\n",
       "      <td>I'm afraid that the tornado is coming to our area...</td>\n",
       "      <td>1</td>\n",
       "      <td>10</td>\n",
       "      <td>afraid tornado come area</td>\n",
       "      <td>none</td>\n",
       "      <td>none afraid tornado come area</td>\n",
       "    </tr>\n",
       "  </tbody>\n",
       "</table>\n",
       "</div>"
      ],
      "text/plain": [
       "   index  id keyword location  \\\n",
       "0      0   1    none      NaN   \n",
       "1      1   4    none      NaN   \n",
       "2      2   5    none      NaN   \n",
       "3      3   6    none      NaN   \n",
       "4      4   7    none      NaN   \n",
       "5      5   8    none      NaN   \n",
       "6      6  10    none      NaN   \n",
       "7      7  13    none      NaN   \n",
       "8      8  14    none      NaN   \n",
       "9      9  15    none      NaN   \n",
       "\n",
       "                                                                                                                                    text  \\\n",
       "0                                                                  Our Deeds are the Reason of this #earthquake May ALLAH Forgive us all   \n",
       "1                                                                                                 Forest fire near La Ronge Sask. Canada   \n",
       "2  All residents asked to 'shelter in place' are being notified by officers. No other evacuation or shelter in place orders are expected   \n",
       "3                                                                      13,000 people receive #wildfires evacuation orders in California    \n",
       "4                                               Just got sent this photo from Ruby #Alaska as smoke from #wildfires pours into a school    \n",
       "5                         #RockyFire Update => California Hwy. 20 closed in both directions due to Lake County fire - #CAfire #wildfires   \n",
       "6                                        #flood #disaster Heavy rain causes flash flooding of streets in Manitou, Colorado Springs areas   \n",
       "7                                                                            I'm on top of the hill and I can see a fire in the woods...   \n",
       "8                                                        There's an emergency evacuation happening now in the building across the street   \n",
       "9                                                                                   I'm afraid that the tornado is coming to our area...   \n",
       "\n",
       "   target  word_count  \\\n",
       "0       1          13   \n",
       "1       1           7   \n",
       "2       1          22   \n",
       "3       1           9   \n",
       "4       1          17   \n",
       "5       1          18   \n",
       "6       1          14   \n",
       "7       1          15   \n",
       "8       1          12   \n",
       "9       1          10   \n",
       "\n",
       "                                                                      clean_text  \\\n",
       "0                                      deed reason earthquak may allah forgiv us   \n",
       "1                                           forest fire near la rong sask canada   \n",
       "2          resid ask shelter place notifi offic evacu shelter place order expect   \n",
       "3                                    peopl receiv wildfir evacu order california   \n",
       "4                           got sent photo rubi alaska smoke wildfir pour school   \n",
       "5  rockyfir updat california hwi close direct due lake counti fire cafir wildfir   \n",
       "6   flood disast heavi rain caus flash flood street manitou colorado spring area   \n",
       "7                                                         top hill see fire wood   \n",
       "8                                         emerg evacu happen build across street   \n",
       "9                                                       afraid tornado come area   \n",
       "\n",
       "  clean_keyword  \\\n",
       "0          none   \n",
       "1          none   \n",
       "2          none   \n",
       "3          none   \n",
       "4          none   \n",
       "5          none   \n",
       "6          none   \n",
       "7          none   \n",
       "8          none   \n",
       "9          none   \n",
       "\n",
       "                                                                         keyword_text  \n",
       "0                                      none deed reason earthquak may allah forgiv us  \n",
       "1                                           none forest fire near la rong sask canada  \n",
       "2          none resid ask shelter place notifi offic evacu shelter place order expect  \n",
       "3                                    none peopl receiv wildfir evacu order california  \n",
       "4                           none got sent photo rubi alaska smoke wildfir pour school  \n",
       "5  none rockyfir updat california hwi close direct due lake counti fire cafir wildfir  \n",
       "6   none flood disast heavi rain caus flash flood street manitou colorado spring area  \n",
       "7                                                         none top hill see fire wood  \n",
       "8                                         none emerg evacu happen build across street  \n",
       "9                                                       none afraid tornado come area  "
      ]
     },
     "execution_count": 11,
     "metadata": {},
     "output_type": "execute_result"
    }
   ],
   "source": [
    "#The Dataset after all actions\n",
    "\n",
    "rdata.head(10)"
   ]
  },
  {
   "cell_type": "markdown",
   "metadata": {},
   "source": [
    "# LSTM Model:"
   ]
  },
  {
   "cell_type": "code",
   "execution_count": 12,
   "metadata": {},
   "outputs": [],
   "source": [
    "feature = 'keyword_text'\n",
    "label = \"target\"\n",
    "\n",
    "# split train and test\n",
    "X_train, X_test,y_train, y_test = model_selection.train_test_split(rdata[feature],\n",
    "                                                                   rdata[label],\n",
    "                                                                   test_size=0.3,\n",
    "                                                                   random_state=0, \n",
    "                                                                   shuffle=True)"
   ]
  },
  {
   "cell_type": "code",
   "execution_count": 13,
   "metadata": {},
   "outputs": [],
   "source": [
    "# Define some hyperparameters\n",
    "\n",
    "path_to_glove_file = 'C:/Users/SAMEER MISHRA/Desktop/COLLEGE PRACTICAL PROGRAM FILES/6th SEM/Project/Code/glove.6B/glove.6B.300d.txt'\n",
    "embedding_dim = 300\n",
    "learning_rate = 1e-3\n",
    "batch_size = 1000\n",
    "epochs = 20\n",
    "sequence_len = 100"
   ]
  },
  {
   "cell_type": "code",
   "execution_count": 14,
   "metadata": {},
   "outputs": [
    {
     "name": "stdout",
     "output_type": "stream",
     "text": [
      "Training Y shape: (6783, 1)\n",
      "Testing Y shape: (2908, 1)\n"
     ]
    }
   ],
   "source": [
    "# Define train and test labels\n",
    "\n",
    "y_train_LSTM = y_train.values.reshape(-1,1)\n",
    "y_test_LSTM = y_test.values.reshape(-1,1)\n",
    "\n",
    "print(\"Training Y shape:\", y_train_LSTM.shape)\n",
    "print(\"Testing Y shape:\", y_test_LSTM.shape)"
   ]
  },
  {
   "cell_type": "code",
   "execution_count": 15,
   "metadata": {},
   "outputs": [
    {
     "name": "stdout",
     "output_type": "stream",
     "text": [
      "Vocabulary Size:  10800\n"
     ]
    }
   ],
   "source": [
    "# Tokenize train data\n",
    "\n",
    "tokenizer = Tokenizer()\n",
    "tokenizer.fit_on_texts(X_train)\n",
    "\n",
    "word_index = tokenizer.word_index\n",
    "vocab_size = len(word_index) + 1\n",
    "print(\"Vocabulary Size: \", vocab_size)"
   ]
  },
  {
   "cell_type": "code",
   "execution_count": 16,
   "metadata": {},
   "outputs": [
    {
     "name": "stdout",
     "output_type": "stream",
     "text": [
      "Training X shape:  (6783, 100)\n",
      "Testing X shape:  (2908, 100)\n"
     ]
    }
   ],
   "source": [
    "# Pad train and test \n",
    "\n",
    "X_train = pad_sequences(tokenizer.texts_to_sequences(X_train), maxlen=sequence_len)\n",
    "X_test = pad_sequences(tokenizer.texts_to_sequences(X_test), maxlen=sequence_len)\n",
    "\n",
    "print(\"Training X shape: \", X_train.shape)\n",
    "print(\"Testing X shape: \", X_test.shape)"
   ]
  },
  {
   "cell_type": "code",
   "execution_count": 17,
   "metadata": {},
   "outputs": [
    {
     "name": "stdout",
     "output_type": "stream",
     "text": [
      "Found 400000 word vectors.\n"
     ]
    }
   ],
   "source": [
    "# Read word embeddings\n",
    "\n",
    "embeddings_index = {}\n",
    "with open(path_to_glove_file, encoding=\"utf8\") as f:\n",
    "    for line in f:\n",
    "        word, coefs = line.split(maxsplit=1)\n",
    "        coefs = np.fromstring(coefs, \"f\", sep=\" \")\n",
    "        embeddings_index[word] = coefs\n",
    "\n",
    "print(\"Found %s word vectors.\" % len(embeddings_index))"
   ]
  },
  {
   "cell_type": "code",
   "execution_count": 18,
   "metadata": {},
   "outputs": [],
   "source": [
    "# Define embedding layer in Keras\n",
    "\n",
    "embedding_matrix = np.zeros((vocab_size, embedding_dim))\n",
    "for word, i in word_index.items():\n",
    "    embedding_vector = embeddings_index.get(word)\n",
    "    if embedding_vector is not None:\n",
    "        embedding_matrix[i] = embedding_vector\n",
    "        \n",
    "embedding_layer = tf.keras.layers.Embedding(vocab_size,\n",
    "                                            embedding_dim,\n",
    "                                            weights=[embedding_matrix],\n",
    "                                            input_length=sequence_len,\n",
    "                                            trainable=False)"
   ]
  },
  {
   "cell_type": "code",
   "execution_count": 19,
   "metadata": {
    "scrolled": false
   },
   "outputs": [
    {
     "name": "stdout",
     "output_type": "stream",
     "text": [
      "Model: \"model\"\n",
      "_________________________________________________________________\n",
      "Layer (type)                 Output Shape              Param #   \n",
      "=================================================================\n",
      "input_1 (InputLayer)         [(None, 100)]             0         \n",
      "_________________________________________________________________\n",
      "embedding (Embedding)        (None, 100, 300)          3240000   \n",
      "_________________________________________________________________\n",
      "conv1d (Conv1D)              (None, 96, 128)           192128    \n",
      "_________________________________________________________________\n",
      "bidirectional (Bidirectional (None, 256)               263168    \n",
      "_________________________________________________________________\n",
      "dense (Dense)                (None, 512)               131584    \n",
      "_________________________________________________________________\n",
      "dropout (Dropout)            (None, 512)               0         \n",
      "_________________________________________________________________\n",
      "dense_1 (Dense)              (None, 512)               262656    \n",
      "_________________________________________________________________\n",
      "dense_2 (Dense)              (None, 1)                 513       \n",
      "=================================================================\n",
      "Total params: 4,090,049\n",
      "Trainable params: 850,049\n",
      "Non-trainable params: 3,240,000\n",
      "_________________________________________________________________\n"
     ]
    }
   ],
   "source": [
    "# Define model architecture\n",
    "\n",
    "sequence_input = Input(shape=(sequence_len, ), dtype='int32')\n",
    "embedding_sequences = embedding_layer(sequence_input)\n",
    "\n",
    "x = Conv1D(128, 5, activation='relu')(embedding_sequences)\n",
    "x = Bidirectional(LSTM(128, dropout=0.5, recurrent_dropout=0.2))(x)\n",
    "x = Dense(512, activation='relu')(x)\n",
    "x = Dropout(0.5)(x)\n",
    "x = Dense(512, activation='relu')(x)\n",
    "outputs = Dense(1, activation='sigmoid')(x)\n",
    "model = Model(sequence_input, outputs)\n",
    "model.summary()"
   ]
  },
  {
   "cell_type": "code",
   "execution_count": 20,
   "metadata": {},
   "outputs": [],
   "source": [
    "# Optimize the model\n",
    "\n",
    "model.compile(optimizer=Adam(learning_rate=learning_rate), loss='binary_crossentropy', metrics=['accuracy'])"
   ]
  },
  {
   "cell_type": "code",
   "execution_count": 21,
   "metadata": {},
   "outputs": [
    {
     "name": "stdout",
     "output_type": "stream",
     "text": [
      "Epoch 1/20\n",
      "7/7 [==============================] - 54s 7s/step - loss: 0.6325 - accuracy: 0.5909 - val_loss: 0.4669 - val_accuracy: 0.7865\n",
      "Epoch 2/20\n",
      "7/7 [==============================] - 57s 8s/step - loss: 0.4471 - accuracy: 0.8055 - val_loss: 0.4105 - val_accuracy: 0.8023\n",
      "Epoch 3/20\n",
      "7/7 [==============================] - 80s 11s/step - loss: 0.3849 - accuracy: 0.8338 - val_loss: 0.3930 - val_accuracy: 0.8146\n",
      "Epoch 4/20\n",
      "7/7 [==============================] - 92s 13s/step - loss: 0.3578 - accuracy: 0.8411 - val_loss: 0.3900 - val_accuracy: 0.8226\n",
      "Epoch 5/20\n",
      "7/7 [==============================] - 90s 13s/step - loss: 0.3289 - accuracy: 0.8570 - val_loss: 0.3819 - val_accuracy: 0.8219\n",
      "Epoch 6/20\n",
      "7/7 [==============================] - 89s 13s/step - loss: 0.3042 - accuracy: 0.8703 - val_loss: 0.4014 - val_accuracy: 0.8232\n",
      "Epoch 7/20\n",
      "7/7 [==============================] - 88s 13s/step - loss: 0.2782 - accuracy: 0.8822 - val_loss: 0.4200 - val_accuracy: 0.8174\n",
      "Epoch 8/20\n",
      "7/7 [==============================] - 88s 12s/step - loss: 0.2488 - accuracy: 0.9003 - val_loss: 0.4354 - val_accuracy: 0.8267\n",
      "Epoch 9/20\n",
      "7/7 [==============================] - 96s 14s/step - loss: 0.2148 - accuracy: 0.9160 - val_loss: 0.5079 - val_accuracy: 0.8033\n",
      "Epoch 10/20\n",
      "7/7 [==============================] - 91s 13s/step - loss: 0.1993 - accuracy: 0.9214 - val_loss: 0.4818 - val_accuracy: 0.8212\n",
      "Epoch 11/20\n",
      "7/7 [==============================] - 95s 14s/step - loss: 0.1839 - accuracy: 0.9278 - val_loss: 0.5176 - val_accuracy: 0.8174\n",
      "Epoch 12/20\n",
      "7/7 [==============================] - 104s 15s/step - loss: 0.1488 - accuracy: 0.9455 - val_loss: 0.5395 - val_accuracy: 0.8219\n",
      "Epoch 13/20\n",
      "7/7 [==============================] - 111s 16s/step - loss: 0.1294 - accuracy: 0.9499 - val_loss: 0.5801 - val_accuracy: 0.8212\n",
      "Epoch 14/20\n",
      "7/7 [==============================] - 109s 15s/step - loss: 0.1128 - accuracy: 0.9586 - val_loss: 0.6523 - val_accuracy: 0.8043\n",
      "Epoch 15/20\n",
      "7/7 [==============================] - 104s 15s/step - loss: 0.0992 - accuracy: 0.9630 - val_loss: 0.6984 - val_accuracy: 0.8198\n",
      "Epoch 16/20\n",
      "7/7 [==============================] - 105s 15s/step - loss: 0.0884 - accuracy: 0.9693 - val_loss: 0.7133 - val_accuracy: 0.7971\n",
      "Epoch 17/20\n",
      "7/7 [==============================] - 111s 16s/step - loss: 0.0864 - accuracy: 0.9680 - val_loss: 0.6659 - val_accuracy: 0.8160\n",
      "Epoch 18/20\n",
      "7/7 [==============================] - 127s 18s/step - loss: 0.0742 - accuracy: 0.9738 - val_loss: 0.7360 - val_accuracy: 0.8181\n",
      "Epoch 19/20\n",
      "7/7 [==============================] - 113s 16s/step - loss: 0.0679 - accuracy: 0.9751 - val_loss: 0.7674 - val_accuracy: 0.8146\n",
      "Epoch 20/20\n",
      "7/7 [==============================] - 103s 15s/step - loss: 0.0535 - accuracy: 0.9795 - val_loss: 0.8069 - val_accuracy: 0.8088\n"
     ]
    }
   ],
   "source": [
    "# Train the LSTM Model\n",
    "\n",
    "history = model.fit(X_train,\n",
    "                    y_train,\n",
    "                    batch_size=batch_size,\n",
    "                    epochs=epochs, \n",
    "                    validation_data=(X_test, y_test))"
   ]
  },
  {
   "cell_type": "code",
   "execution_count": 22,
   "metadata": {},
   "outputs": [
    {
     "data": {
      "image/png": "[encoded data removed]",
      "text/plain": [
       "<Figure size 720x288 with 1 Axes>"
      ]
     },
     "metadata": {
      "needs_background": "light"
     },
     "output_type": "display_data"
    }
   ],
   "source": [
    "# Plot train accuracy and loss\n",
    "accuraties = history.history['accuracy']\n",
    "losses = history.history['loss']\n",
    "accuraties_losses = list(zip(accuraties,losses))\n",
    "\n",
    "accuraties_losses_df = pd.DataFrame(accuraties_losses, columns={\"accuraties\", \"losses\"})\n",
    "\n",
    "plt.figure(figsize=(10,4))\n",
    "plt.suptitle(\"Train Accuracy vs Train Loss\")\n",
    "sns.lineplot(data=accuraties_losses_df)\n",
    "plt.show()"
   ]
  },
  {
   "cell_type": "code",
   "execution_count": 23,
   "metadata": {
    "scrolled": true
   },
   "outputs": [
    {
     "name": "stdout",
     "output_type": "stream",
     "text": [
      "1/1 [==============================] - 4s 4s/step\n",
      "1/1 [==============================] - 3s 3s/step - loss: 0.8069 - accuracy: 0.8088\n",
      "Test Accuracy:  0.8088033199310303\n",
      "              precision    recall  f1-score   support\n",
      "\n",
      "           0       0.77      0.81      0.79      1277\n",
      "           1       0.84      0.81      0.83      1631\n",
      "\n",
      "    accuracy                           0.81      2908\n",
      "   macro avg       0.81      0.81      0.81      2908\n",
      "weighted avg       0.81      0.81      0.81      2908\n",
      "\n"
     ]
    }
   ],
   "source": [
    "# Evaluate the model\n",
    "\n",
    "predicted = model.predict(X_test, verbose=1, batch_size=10000)\n",
    "y_predicted = [1 if each > 0.5 else 0 for each in predicted]\n",
    "score, test_accuracy = model.evaluate(X_test, y_test, batch_size=10000)\n",
    "\n",
    "print(\"Test Accuracy: \", test_accuracy)\n",
    "print(metrics.classification_report(list(y_test), y_predicted))"
   ]
  },
  {
   "cell_type": "code",
   "execution_count": 24,
   "metadata": {},
   "outputs": [
    {
     "data": {
      "image/png": "[encoded data removed]",
      "text/plain": [
       "<Figure size 432x288 with 1 Axes>"
      ]
     },
     "metadata": {
      "needs_background": "light"
     },
     "output_type": "display_data"
    }
   ],
   "source": [
    "# Plot confusion matrix\n",
    "\n",
    "conf_matrix = metrics.confusion_matrix(y_test, y_predicted)\n",
    "\n",
    "fig, ax = plt.subplots()\n",
    "sns.heatmap(conf_matrix, cbar=False, cmap='Reds', annot=True, fmt='d')\n",
    "ax.set(xlabel=\"Predicted Value\", ylabel=\"True Value\", title=\"Confusion Matrix\")\n",
    "ax.set_yticklabels(labels=['0', '1'], rotation=0)\n",
    "plt.show()"
   ]
  },
  {
   "cell_type": "code",
   "execution_count": 25,
   "metadata": {
    "scrolled": true
   },
   "outputs": [
    {
     "name": "stdout",
     "output_type": "stream",
     "text": [
      "Enter a string :Hon’ble PM Sh.  @narendramodi  virtually interacts with personnel involved in Ropeway Rescue Operation at Deoghar. Hails heroic efforts & coordination of all stakeholders.  Do watch the telecast ⬇️ https://youtu.be/uV6Ta1bRa5Y  #Committed2Serve 🇮🇳  #आपदा_सेवा_सदैव_सर्वत्र 🙏🙏\n",
      "1/1 [==============================] - 0s 30ms/step\n"
     ]
    },
    {
     "data": {
      "text/html": [
       "<div>\n",
       "<style scoped>\n",
       "    .dataframe tbody tr th:only-of-type {\n",
       "        vertical-align: middle;\n",
       "    }\n",
       "\n",
       "    .dataframe tbody tr th {\n",
       "        vertical-align: top;\n",
       "    }\n",
       "\n",
       "    .dataframe thead th {\n",
       "        text-align: right;\n",
       "    }\n",
       "</style>\n",
       "<table border=\"1\" class=\"dataframe\">\n",
       "  <thead>\n",
       "    <tr style=\"text-align: right;\">\n",
       "      <th></th>\n",
       "      <th>Feature</th>\n",
       "      <th>Label</th>\n",
       "    </tr>\n",
       "  </thead>\n",
       "  <tbody>\n",
       "    <tr>\n",
       "      <th>0</th>\n",
       "      <td>Hon’ble PM Sh.  @narendramodi  virtually interacts with personnel involved in Ropeway Rescue Operation at Deoghar. Hails heroic efforts &amp; coordination of all stakeholders.  Do watch the telecast ⬇️ https://youtu.be/uV6Ta1bRa5Y  #Committed2Serve 🇮🇳  #आपदा_सेवा_सदैव_सर्वत्र 🙏🙏</td>\n",
       "      <td>1</td>\n",
       "    </tr>\n",
       "  </tbody>\n",
       "</table>\n",
       "</div>"
      ],
      "text/plain": [
       "                                                                                                                                                                                                                                                                               Feature  \\\n",
       "0  Hon’ble PM Sh.  @narendramodi  virtually interacts with personnel involved in Ropeway Rescue Operation at Deoghar. Hails heroic efforts & coordination of all stakeholders.  Do watch the telecast ⬇️ https://youtu.be/uV6Ta1bRa5Y  #Committed2Serve 🇮🇳  #आपदा_सेवा_सदैव_सर्वत्र 🙏🙏   \n",
       "\n",
       "   Label  \n",
       "0      1  "
      ]
     },
     "metadata": {},
     "output_type": "display_data"
    }
   ],
   "source": [
    "#user input:\n",
    "\n",
    "#Translating text to english\n",
    "translated_text = translator.translate(input('Enter a string :'),dest=\"en\")   \n",
    "x = translated_text.text\n",
    "data = {\"id\":[16747883],\n",
    "       \"text\":x}\n",
    "\n",
    "userData = pd.DataFrame(data)\n",
    "userData['clean_text'] = userData['text'].apply(lambda x: clean_text(x) )\n",
    "x = userData['clean_text'][0]\n",
    "\n",
    "data = pad_sequences(tokenizer.texts_to_sequences(userData['clean_text']), maxlen=sequence_len)\n",
    "predicted = model.predict(data, verbose=1, batch_size=10000)\n",
    "y_predicted = [1 if each > 0.5 else 0 for each in predicted]\n",
    "\n",
    "new_data = pd.DataFrame()\n",
    "new_data['Feature'] = userData['text']\n",
    "new_data['Label'] = y_predicted\n",
    "display(new_data)"
   ]
  },
  {
   "cell_type": "code",
   "execution_count": 26,
   "metadata": {
    "scrolled": false
   },
   "outputs": [
    {
     "name": "stdout",
     "output_type": "stream",
     "text": [
      "-----------------------\n",
      "|  Validity: 100 %  |\n",
      "-----------------------\n"
     ]
    }
   ],
   "source": [
    "#Input Validation\n",
    "\n",
    "if y_predicted[0]==1:\n",
    "    temp = 0\n",
    "    df1 = pd.read_csv(\"Dataset/tweets.csv\")\n",
    "    df1 = df1.dropna()\n",
    "    for t in df1.Tweet:\n",
    "        temp = max(temp,fuzz.ratio(x,t))\n",
    "    print('-----------------------')\n",
    "    print('|  Validity:',temp,\"%  |\")\n",
    "    print('-----------------------')\n",
    "else:\n",
    "    print(\"Tweet not related to diaster\")"
   ]
  },
  {
   "cell_type": "code",
   "execution_count": null,
   "metadata": {},
   "outputs": [],
   "source": []
  }
 ],
 "metadata": {
  "kernelspec": {
   "display_name": "Python 3",
   "language": "python",
   "name": "python3"
  },
  "language_info": {
   "codemirror_mode": {
    "name": "ipython",
    "version": 3
   },
   "file_extension": ".py",
   "mimetype": "text/x-python",
   "name": "python",
   "nbconvert_exporter": "python",
   "pygments_lexer": "ipython3",
   "version": "3.7.6"
  }
 },
 "nbformat": 4,
 "nbformat_minor": 4
}
